{
  "nbformat": 4,
  "nbformat_minor": 0,
  "metadata": {
    "colab": {
      "provenance": [],
      "include_colab_link": true
    },
    "kernelspec": {
      "name": "python3",
      "display_name": "Python 3"
    },
    "language_info": {
      "name": "python"
    }
  },
  "cells": [
    {
      "cell_type": "markdown",
      "metadata": {
        "id": "view-in-github",
        "colab_type": "text"
      },
      "source": [
        "<a href=\"https://colab.research.google.com/github/2303A51197/PDS_1197_B_10/blob/main/LAB_02.ipynb\" target=\"_parent\"><img src=\"https://colab.research.google.com/assets/colab-badge.svg\" alt=\"Open In Colab\"/></a>"
      ]
    },
    {
      "cell_type": "code",
      "execution_count": 1,
      "metadata": {
        "id": "5d0xLdg95kHr"
      },
      "outputs": [],
      "source": [
        "import numpy as np\n",
        "import pandas as pd"
      ]
    },
    {
      "cell_type": "code",
      "source": [
        "student_data=np.array([\n",
        "    [56,85,96],\n",
        "    [85,36,54],\n",
        "    [78,96,65],\n",
        "    [78,52,57],\n",
        "    [65,85,87]\n",
        "]);"
      ],
      "metadata": {
        "id": "r2QvTPdy508W"
      },
      "execution_count": 2,
      "outputs": []
    },
    {
      "cell_type": "code",
      "source": [
        "avg=student_data.mean(axis=1)\n",
        "print(avg)"
      ],
      "metadata": {
        "colab": {
          "base_uri": "https://localhost:8080/"
        },
        "id": "c4EWG5026i2h",
        "outputId": "ab162d66-f6a9-4ce8-f463-c94178d35a85"
      },
      "execution_count": 3,
      "outputs": [
        {
          "output_type": "stream",
          "name": "stdout",
          "text": [
            "[79.         58.33333333 79.66666667 62.33333333 79.        ]\n"
          ]
        }
      ]
    },
    {
      "cell_type": "code",
      "source": [
        "maximum_score=student_data.max(axis=1)\n",
        "print(maximum_score)"
      ],
      "metadata": {
        "colab": {
          "base_uri": "https://localhost:8080/"
        },
        "id": "9i_mVRjl63ki",
        "outputId": "e12a4193-c776-40cf-98be-65a9fc1f35f4"
      },
      "execution_count": 4,
      "outputs": [
        {
          "output_type": "stream",
          "name": "stdout",
          "text": [
            "[96 85 96 78 87]\n"
          ]
        }
      ]
    },
    {
      "cell_type": "code",
      "source": [
        "minimum_score=student_data.min(axis=1)\n",
        "print(minimum_score)"
      ],
      "metadata": {
        "colab": {
          "base_uri": "https://localhost:8080/"
        },
        "id": "FkSTQgxs7DXp",
        "outputId": "3501d80a-c952-4601-bc1b-59cf0d2db913"
      },
      "execution_count": 5,
      "outputs": [
        {
          "output_type": "stream",
          "name": "stdout",
          "text": [
            "[56 36 65 52 65]\n"
          ]
        }
      ]
    },
    {
      "cell_type": "code",
      "source": [
        "student_data[0:5]"
      ],
      "metadata": {
        "colab": {
          "base_uri": "https://localhost:8080/"
        },
        "id": "AfV7rRvH7MJE",
        "outputId": "bf9ed164-e58f-40b8-e8b8-e52eaca3e7dc"
      },
      "execution_count": 6,
      "outputs": [
        {
          "output_type": "execute_result",
          "data": {
            "text/plain": [
              "array([[56, 85, 96],\n",
              "       [85, 36, 54],\n",
              "       [78, 96, 65],\n",
              "       [78, 52, 57],\n",
              "       [65, 85, 87]])"
            ]
          },
          "metadata": {},
          "execution_count": 6
        }
      ]
    },
    {
      "cell_type": "code",
      "source": [
        "student_data[student_data>80]"
      ],
      "metadata": {
        "colab": {
          "base_uri": "https://localhost:8080/"
        },
        "id": "CNlgYoqw8MQ4",
        "outputId": "e00ffb45-fa75-4c07-8da8-17a7e9ce5f1e"
      },
      "execution_count": 7,
      "outputs": [
        {
          "output_type": "execute_result",
          "data": {
            "text/plain": [
              "array([85, 96, 85, 96, 85, 87])"
            ]
          },
          "metadata": {},
          "execution_count": 7
        }
      ]
    },
    {
      "cell_type": "code",
      "source": [
        " studentmarksabove_80=student_data[student_data[:, 0] > 80]"
      ],
      "metadata": {
        "id": "OKQ0-M057S7k"
      },
      "execution_count": 8,
      "outputs": []
    },
    {
      "cell_type": "code",
      "source": [
        "studentmarksabove_80"
      ],
      "metadata": {
        "colab": {
          "base_uri": "https://localhost:8080/"
        },
        "id": "f0ouYI5G7oIV",
        "outputId": "bce40c2f-a13e-46db-8066-ffe3386e3620"
      },
      "execution_count": null,
      "outputs": [
        {
          "output_type": "execute_result",
          "data": {
            "text/plain": [
              "array([[85, 36, 54]])"
            ]
          },
          "metadata": {},
          "execution_count": 11
        }
      ]
    },
    {
      "cell_type": "code",
      "source": [
        "reshaped=student_data.T"
      ],
      "metadata": {
        "id": "JHbgAiuc8H55"
      },
      "execution_count": 9,
      "outputs": []
    },
    {
      "cell_type": "code",
      "source": [
        "reshaped"
      ],
      "metadata": {
        "colab": {
          "base_uri": "https://localhost:8080/"
        },
        "id": "gJl5uhuU8WUB",
        "outputId": "c2231cbc-649e-4cee-8c9d-63c87ef2309c"
      },
      "execution_count": 10,
      "outputs": [
        {
          "output_type": "execute_result",
          "data": {
            "text/plain": [
              "array([[56, 85, 78, 78, 65],\n",
              "       [85, 36, 96, 52, 85],\n",
              "       [96, 54, 65, 57, 87]])"
            ]
          },
          "metadata": {},
          "execution_count": 10
        }
      ]
    },
    {
      "cell_type": "code",
      "source": [
        "print(\"\\nObservations:\")\n",
        "print(\"- Students 2, 4, and 6 are consistent high performers.\")\n",
        "print(\"- Science marks are generally higher than Math & English.\")\n",
        "print(\"- A few students (e.g., Student 8) need improvement across subjects.\")"
      ],
      "metadata": {
        "colab": {
          "base_uri": "https://localhost:8080/"
        },
        "id": "7TuWUuXk8jWS",
        "outputId": "7131e5f9-d570-4f47-82c8-2d9ec1802390"
      },
      "execution_count": 11,
      "outputs": [
        {
          "output_type": "stream",
          "name": "stdout",
          "text": [
            "\n",
            "Observations:\n",
            "- Students 2, 4, and 6 are consistent high performers.\n",
            "- Science marks are generally higher than Math & English.\n",
            "- A few students (e.g., Student 8) need improvement across subjects.\n"
          ]
        }
      ]
    },
    {
      "cell_type": "code",
      "source": [],
      "metadata": {
        "id": "JSvqPuol8yxB"
      },
      "execution_count": null,
      "outputs": []
    }
  ]
}